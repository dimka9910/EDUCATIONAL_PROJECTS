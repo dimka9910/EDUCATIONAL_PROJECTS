{
 "cells": [
  {
   "cell_type": "markdown",
   "metadata": {},
   "source": [
    "# Задание 1"
   ]
  },
  {
   "cell_type": "markdown",
   "metadata": {},
   "source": [
    "Постройте нейронную сеть из одного нейрона и обучите её на датасетах nn_0.csv и nn_1.csv. \n",
    "\n",
    "Насколько отличается результат обучения и почему? \n",
    "Сколько потребовалось эпох для обучения? \n",
    "Попробуйте различные функции активации и оптимизаторы."
   ]
  },
  {
   "cell_type": "code",
   "execution_count": 1,
   "metadata": {},
   "outputs": [],
   "source": [
    "import matplotlib.pyplot as plt"
   ]
  },
  {
   "cell_type": "code",
   "execution_count": 2,
   "metadata": {},
   "outputs": [
    {
     "name": "stderr",
     "output_type": "stream",
     "text": [
      "Using TensorFlow backend.\n",
      "C:\\Users\\Kristijan\\anaconda3\\lib\\site-packages\\tensorflow\\python\\framework\\dtypes.py:516: FutureWarning: Passing (type, 1) or '1type' as a synonym of type is deprecated; in a future version of numpy, it will be understood as (type, (1,)) / '(1,)type'.\n",
      "  _np_qint8 = np.dtype([(\"qint8\", np.int8, 1)])\n",
      "C:\\Users\\Kristijan\\anaconda3\\lib\\site-packages\\tensorflow\\python\\framework\\dtypes.py:517: FutureWarning: Passing (type, 1) or '1type' as a synonym of type is deprecated; in a future version of numpy, it will be understood as (type, (1,)) / '(1,)type'.\n",
      "  _np_quint8 = np.dtype([(\"quint8\", np.uint8, 1)])\n",
      "C:\\Users\\Kristijan\\anaconda3\\lib\\site-packages\\tensorflow\\python\\framework\\dtypes.py:518: FutureWarning: Passing (type, 1) or '1type' as a synonym of type is deprecated; in a future version of numpy, it will be understood as (type, (1,)) / '(1,)type'.\n",
      "  _np_qint16 = np.dtype([(\"qint16\", np.int16, 1)])\n",
      "C:\\Users\\Kristijan\\anaconda3\\lib\\site-packages\\tensorflow\\python\\framework\\dtypes.py:519: FutureWarning: Passing (type, 1) or '1type' as a synonym of type is deprecated; in a future version of numpy, it will be understood as (type, (1,)) / '(1,)type'.\n",
      "  _np_quint16 = np.dtype([(\"quint16\", np.uint16, 1)])\n",
      "C:\\Users\\Kristijan\\anaconda3\\lib\\site-packages\\tensorflow\\python\\framework\\dtypes.py:520: FutureWarning: Passing (type, 1) or '1type' as a synonym of type is deprecated; in a future version of numpy, it will be understood as (type, (1,)) / '(1,)type'.\n",
      "  _np_qint32 = np.dtype([(\"qint32\", np.int32, 1)])\n",
      "C:\\Users\\Kristijan\\anaconda3\\lib\\site-packages\\tensorflow\\python\\framework\\dtypes.py:525: FutureWarning: Passing (type, 1) or '1type' as a synonym of type is deprecated; in a future version of numpy, it will be understood as (type, (1,)) / '(1,)type'.\n",
      "  np_resource = np.dtype([(\"resource\", np.ubyte, 1)])\n",
      "C:\\Users\\Kristijan\\anaconda3\\lib\\site-packages\\tensorboard\\compat\\tensorflow_stub\\dtypes.py:541: FutureWarning: Passing (type, 1) or '1type' as a synonym of type is deprecated; in a future version of numpy, it will be understood as (type, (1,)) / '(1,)type'.\n",
      "  _np_qint8 = np.dtype([(\"qint8\", np.int8, 1)])\n",
      "C:\\Users\\Kristijan\\anaconda3\\lib\\site-packages\\tensorboard\\compat\\tensorflow_stub\\dtypes.py:542: FutureWarning: Passing (type, 1) or '1type' as a synonym of type is deprecated; in a future version of numpy, it will be understood as (type, (1,)) / '(1,)type'.\n",
      "  _np_quint8 = np.dtype([(\"quint8\", np.uint8, 1)])\n",
      "C:\\Users\\Kristijan\\anaconda3\\lib\\site-packages\\tensorboard\\compat\\tensorflow_stub\\dtypes.py:543: FutureWarning: Passing (type, 1) or '1type' as a synonym of type is deprecated; in a future version of numpy, it will be understood as (type, (1,)) / '(1,)type'.\n",
      "  _np_qint16 = np.dtype([(\"qint16\", np.int16, 1)])\n",
      "C:\\Users\\Kristijan\\anaconda3\\lib\\site-packages\\tensorboard\\compat\\tensorflow_stub\\dtypes.py:544: FutureWarning: Passing (type, 1) or '1type' as a synonym of type is deprecated; in a future version of numpy, it will be understood as (type, (1,)) / '(1,)type'.\n",
      "  _np_quint16 = np.dtype([(\"quint16\", np.uint16, 1)])\n",
      "C:\\Users\\Kristijan\\anaconda3\\lib\\site-packages\\tensorboard\\compat\\tensorflow_stub\\dtypes.py:545: FutureWarning: Passing (type, 1) or '1type' as a synonym of type is deprecated; in a future version of numpy, it will be understood as (type, (1,)) / '(1,)type'.\n",
      "  _np_qint32 = np.dtype([(\"qint32\", np.int32, 1)])\n",
      "C:\\Users\\Kristijan\\anaconda3\\lib\\site-packages\\tensorboard\\compat\\tensorflow_stub\\dtypes.py:550: FutureWarning: Passing (type, 1) or '1type' as a synonym of type is deprecated; in a future version of numpy, it will be understood as (type, (1,)) / '(1,)type'.\n",
      "  np_resource = np.dtype([(\"resource\", np.ubyte, 1)])\n"
     ]
    }
   ],
   "source": [
    "import numpy as np\n",
    "import pandas as pd\n",
    "\n",
    "from sklearn.model_selection import train_test_split\n",
    "from sklearn.preprocessing import LabelBinarizer\n",
    "\n",
    "import keras\n",
    "from keras import models\n",
    "from keras import layers\n",
    "from keras.utils import np_utils"
   ]
  },
  {
   "cell_type": "code",
   "execution_count": 3,
   "metadata": {},
   "outputs": [],
   "source": [
    "def get_data_plot(data):\n",
    "    fig, axes = plt.subplots()\n",
    "    axes.scatter(data[data['class'] == -1]['X1'],\n",
    "              data[data['class'] == -1]['X2'],\n",
    "              c='b')\n",
    "    axes.scatter(data[data['class'] == 1]['X1'],\n",
    "              data[data['class'] == 1]['X2'],\n",
    "              c='c')\n",
    "    axes.set_ylabel('X2')\n",
    "    axes.set_xlabel('X1')\n",
    "    plt.show()\n",
    "    \n",
    "lb = LabelBinarizer()"
   ]
  },
  {
   "cell_type": "code",
   "execution_count": 4,
   "metadata": {
    "scrolled": true
   },
   "outputs": [
    {
     "data": {
      "image/png": "[encoded data removed]",
      "text/plain": [
       "<Figure size 432x288 with 1 Axes>"
      ]
     },
     "metadata": {
      "needs_background": "light"
     },
     "output_type": "display_data"
    }
   ],
   "source": [
    "data_1 = pd.read_csv('D:\\FAX\\mashin_ljorning\\Lab_2_Neural_networks/nn_0.csv')\n",
    "get_data_plot(data_1)"
   ]
  },
  {
   "cell_type": "code",
   "execution_count": 5,
   "metadata": {},
   "outputs": [
    {
     "name": "stdout",
     "output_type": "stream",
     "text": [
      "WARNING:tensorflow:From C:\\Users\\Kristijan\\anaconda3\\lib\\site-packages\\tensorflow\\python\\ops\\nn_impl.py:180: add_dispatch_support.<locals>.wrapper (from tensorflow.python.ops.array_ops) is deprecated and will be removed in a future version.\n",
      "Instructions for updating:\n",
      "Use tf.where in 2.0, which has the same broadcast rule as np.where\n",
      "WARNING:tensorflow:From C:\\Users\\Kristijan\\anaconda3\\lib\\site-packages\\keras\\backend\\tensorflow_backend.py:422: The name tf.global_variables is deprecated. Please use tf.compat.v1.global_variables instead.\n",
      "\n",
      "activation: sigmoid  optimizer: adam  accuracy: 0.6666666865348816\n",
      "activation: sigmoid  optimizer: adamax  accuracy: 0.20000000298023224\n",
      "activation: sigmoid  optimizer: RMSprop  accuracy: 0.0\n",
      "activation: sigmoid  optimizer: SGD  accuracy: 0.8999999761581421\n",
      "activation: relu  optimizer: adam  accuracy: 0.0\n",
      "activation: relu  optimizer: adamax  accuracy: 0.6666666865348816\n",
      "activation: relu  optimizer: RMSprop  accuracy: 0.6333333253860474\n",
      "activation: relu  optimizer: SGD  accuracy: 0.8333333134651184\n",
      "activation: softmax  optimizer: adam  accuracy: 0.4333333373069763\n",
      "activation: softmax  optimizer: adamax  accuracy: 0.4333333373069763\n",
      "activation: softmax  optimizer: RMSprop  accuracy: 0.4333333373069763\n",
      "activation: softmax  optimizer: SGD  accuracy: 0.4333333373069763\n"
     ]
    }
   ],
   "source": [
    "x_train, x_test, y_train, y_test = train_test_split(\n",
    "        data_1.drop(['class'], axis=1), \n",
    "        data_1['class'], \n",
    "        random_state=11,\n",
    "        test_size=0.3)\n",
    "\n",
    "y_train = lb.fit_transform(y_train)\n",
    "y_test = lb.transform(y_test)\n",
    "\n",
    "activation_list = ['sigmoid', 'relu', 'softmax']\n",
    "optimizer_list = ['adam', 'adamax', 'RMSprop', 'SGD']\n",
    "\n",
    "for activation in activation_list:\n",
    "    for optimizer in optimizer_list:\n",
    "        visible = layers.Input(shape=(2,))\n",
    "        hidden = layers.Dense(1, activation=activation)(visible)\n",
    "        model = models.Model(inputs=visible, outputs=hidden)\n",
    "        model.compile(\n",
    "            optimizer = optimizer,\n",
    "            loss = \"binary_crossentropy\",\n",
    "            metrics = [\"accuracy\"]\n",
    "        )\n",
    "\n",
    "        model.fit(x_train, y_train, epochs=20, batch_size=2, validation_split=0.2, verbose=0)\n",
    "\n",
    "        test_loss, test_acc = model.evaluate(x_test, y_test, verbose=0)\n",
    "        print(f'activation: {activation}  optimizer: {optimizer}  accuracy: {test_acc}')"
   ]
  },
  {
   "cell_type": "code",
   "execution_count": 6,
   "metadata": {},
   "outputs": [
    {
     "data": {
      "image/png": "[encoded data removed]",
      "text/plain": [
       "<Figure size 432x288 with 1 Axes>"
      ]
     },
     "metadata": {
      "needs_background": "light"
     },
     "output_type": "display_data"
    }
   ],
   "source": [
    "data_2 = pd.read_csv('D:\\FAX\\mashin_ljorning\\Lab_2_Neural_networks/nn_1.csv')\n",
    "\n",
    "get_data_plot(data_2)"
   ]
  },
  {
   "cell_type": "code",
   "execution_count": 7,
   "metadata": {
    "scrolled": true
   },
   "outputs": [
    {
     "name": "stdout",
     "output_type": "stream",
     "text": [
      "activation: sigmoid  optimizer: adam  accuracy: 0.6000000238418579\n",
      "activation: sigmoid  optimizer: adamax  accuracy: 0.4533333480358124\n",
      "activation: sigmoid  optimizer: RMSprop  accuracy: 0.6133333444595337\n",
      "activation: sigmoid  optimizer: SGD  accuracy: 0.3733333349227905\n",
      "activation: relu  optimizer: adam  accuracy: 0.0\n",
      "activation: relu  optimizer: adamax  accuracy: 0.07999999821186066\n",
      "activation: relu  optimizer: RMSprop  accuracy: 0.46666666865348816\n",
      "activation: relu  optimizer: SGD  accuracy: 0.0\n",
      "activation: softmax  optimizer: adam  accuracy: 0.6133333444595337\n",
      "activation: softmax  optimizer: adamax  accuracy: 0.6133333444595337\n",
      "activation: softmax  optimizer: RMSprop  accuracy: 0.6133333444595337\n",
      "activation: softmax  optimizer: SGD  accuracy: 0.6133333444595337\n"
     ]
    }
   ],
   "source": [
    "x_train, x_test, y_train, y_test = train_test_split(\n",
    "        data_2.drop(['class'], axis=1), \n",
    "        data_2['class'], \n",
    "        random_state=11,\n",
    "        test_size=0.3)\n",
    "\n",
    "y_train = lb.fit_transform(y_train)\n",
    "y_test = lb.transform(y_test)\n",
    "\n",
    "activation_list = ['sigmoid', 'relu', 'softmax']\n",
    "optimizer_list = ['adam', 'adamax', 'RMSprop', 'SGD']\n",
    "\n",
    "for activation in activation_list:\n",
    "    for optimizer in optimizer_list:\n",
    "        visible = layers.Input(shape=(2,))\n",
    "        hidden = layers.Dense(1, activation=activation)(visible)\n",
    "        model = models.Model(inputs=visible, outputs=hidden)\n",
    "        model.compile(\n",
    "            optimizer = optimizer,\n",
    "            loss = \"binary_crossentropy\",\n",
    "            metrics = [\"accuracy\"]\n",
    "        )\n",
    "\n",
    "        model.fit(x_train, y_train, epochs=20, batch_size=2, validation_split=0.2, verbose=0)\n",
    "\n",
    "        test_loss, test_acc = model.evaluate(x_test, y_test, verbose=0)\n",
    "        print(f'activation: {activation}  optimizer: {optimizer}  accuracy: {test_acc}')"
   ]
  },
  {
   "cell_type": "markdown",
   "metadata": {},
   "source": [
    "Модель работает лучше для данных nn_0 чем nn_1. Потребовалось 20 эпох для обучения.\n",
    "\n",
    "Для данных nn_0 лучше всех подошли функция активации sigmoid и оптимизатор SGD.\n",
    "\n",
    "Для данных nn_1 лучше всех подошли функция активации sigmoid и оптимизатор adamax."
   ]
  },
  {
   "cell_type": "markdown",
   "metadata": {},
   "source": [
    "# Задание 2"
   ]
  },
  {
   "cell_type": "markdown",
   "metadata": {},
   "source": [
    "Модифицируйте нейронную сеть из пункта 1, чтобы достичь минимальной ошибки на датасете nn_1.csv. \n",
    "\n",
    "Почему были выбраны именно такие гиперпараметры?"
   ]
  },
  {
   "cell_type": "code",
   "execution_count": 8,
   "metadata": {},
   "outputs": [
    {
     "name": "stdout",
     "output_type": "stream",
     "text": [
      "Train on 140 samples, validate on 35 samples\n",
      "Epoch 1/12\n",
      "140/140 [==============================] - 0s 3ms/step - loss: 6.5801 - accuracy: 0.1214 - val_loss: 7.5170 - val_accuracy: 0.0000e+00\n",
      "Epoch 2/12\n",
      "140/140 [==============================] - 0s 945us/step - loss: 5.9791 - accuracy: 0.0000e+00 - val_loss: 7.5061 - val_accuracy: 0.0000e+00\n",
      "Epoch 3/12\n",
      "140/140 [==============================] - 0s 1ms/step - loss: 5.9692 - accuracy: 0.0000e+00 - val_loss: 7.4972 - val_accuracy: 0.0000e+00\n",
      "Epoch 4/12\n",
      "140/140 [==============================] - 0s 948us/step - loss: 5.9612 - accuracy: 0.0000e+00 - val_loss: 7.4899 - val_accuracy: 0.0000e+00\n",
      "Epoch 5/12\n",
      "140/140 [==============================] - 0s 969us/step - loss: 5.9547 - accuracy: 0.0000e+00 - val_loss: 7.4840 - val_accuracy: 0.0000e+00\n",
      "Epoch 6/12\n",
      "140/140 [==============================] - 0s 934us/step - loss: 5.9494 - accuracy: 0.0000e+00 - val_loss: 7.4792 - val_accuracy: 0.0000e+00\n",
      "Epoch 7/12\n",
      "140/140 [==============================] - 0s 955us/step - loss: 5.9450 - accuracy: 0.0000e+00 - val_loss: 7.4752 - val_accuracy: 0.0000e+00\n",
      "Epoch 8/12\n",
      "140/140 [==============================] - 0s 1ms/step - loss: 5.9414 - accuracy: 0.0000e+00 - val_loss: 7.4720 - val_accuracy: 0.0000e+00\n",
      "Epoch 9/12\n",
      "140/140 [==============================] - 0s 997us/step - loss: 5.9384 - accuracy: 0.0000e+00 - val_loss: 7.4694 - val_accuracy: 0.0000e+00\n",
      "Epoch 10/12\n",
      "140/140 [==============================] - 0s 2ms/step - loss: 5.9360 - accuracy: 0.0000e+00 - val_loss: 7.4672 - val_accuracy: 0.0000e+00\n",
      "Epoch 11/12\n",
      "140/140 [==============================] - 0s 1ms/step - loss: 5.9340 - accuracy: 0.0000e+00 - val_loss: 7.4654 - val_accuracy: 0.0000e+00\n",
      "Epoch 12/12\n",
      "140/140 [==============================] - 0s 3ms/step - loss: 5.9323 - accuracy: 0.0000e+00 - val_loss: 7.4638 - val_accuracy: 0.0000e+00\n",
      "75/75 [==============================] - 0s 78us/step\n",
      "accuracy: 0.0\n"
     ]
    }
   ],
   "source": [
    "x_train, x_test, y_train, y_test = train_test_split(\n",
    "        data_2.drop(['class'], axis=1), \n",
    "        data_2['class'], \n",
    "        random_state=11,\n",
    "        test_size=0.3)\n",
    "\n",
    "y_train = lb.fit_transform(y_train)\n",
    "y_test = lb.transform(y_test)\n",
    "\n",
    "\n",
    "visible = layers.Input(shape=(2,))\n",
    "hidden = layers.Dense(8, activation='relu', activity_regularizer=keras.regularizers.l2(0.02))(visible)\n",
    "hidden_2 = layers.Dense(1, activation='relu')(hidden)\n",
    "model = models.Model(inputs=visible, outputs=hidden_2)\n",
    "model.compile(\n",
    "    optimizer = 'SGD',\n",
    "    loss = \"binary_crossentropy\",\n",
    "    metrics = [\"accuracy\"]\n",
    ")\n",
    "\n",
    "model.fit(x_train, y_train, epochs=12, batch_size=2, validation_split=0.2)\n",
    "\n",
    "test_loss, test_acc = model.evaluate(x_test, y_test)\n",
    "print(f'accuracy: {test_acc}')"
   ]
  },
  {
   "cell_type": "markdown",
   "metadata": {},
   "source": [
    "Для достижения минимальной ошибки на датасете nn_1.csv был добавлен дополнительный полносвязный слой из 8 нейронов с функцией активации relu и функцией регуляризации для того, чтобы применять штрафы к параметрам слоя."
   ]
  },
  {
   "cell_type": "markdown",
   "metadata": {},
   "source": [
    "# Задание 3"
   ]
  },
  {
   "cell_type": "markdown",
   "metadata": {},
   "source": [
    "Создайте классификатор на базе нейронной сети для набора данных MNIST (так же можно загрузить с помощью torchvision.datasets.MNIST, tensorflow.keras.datasets.mnist.load_data и пр.). \n",
    "\n",
    "Оцените качество классификации."
   ]
  },
  {
   "cell_type": "code",
   "execution_count": 9,
   "metadata": {},
   "outputs": [],
   "source": [
    "num_train = 60000\n",
    "num_test = 10000\n",
    "\n",
    "height, width, depth = 28, 28, 1\n",
    "\n",
    "(x_train, y_train), (x_test, y_test) = keras.datasets.mnist.load_data()\n",
    "\n",
    "x_train = x_train.reshape(num_train, height * width)\n",
    "x_test = x_test.reshape(num_test, height * width)\n",
    "x_train = x_train.astype('float32')\n",
    "x_test = x_test.astype('float32')\n",
    " \n",
    "# Normalizing\n",
    "x_train /= 255\n",
    "x_test /= 255\n",
    "\n",
    "num_classes = 10\n",
    "y_train = np_utils.to_categorical(y_train, num_classes)\n",
    "y_test = np_utils.to_categorical(y_test, num_classes)"
   ]
  },
  {
   "cell_type": "code",
   "execution_count": 10,
   "metadata": {},
   "outputs": [
    {
     "name": "stdout",
     "output_type": "stream",
     "text": [
      "Train on 54000 samples, validate on 6000 samples\n",
      "Epoch 1/15\n",
      "54000/54000 [==============================] - 17s 319us/step - loss: 0.2316 - accuracy: 0.9322 - val_loss: 0.1037 - val_accuracy: 0.9690\n",
      "Epoch 2/15\n",
      "54000/54000 [==============================] - 17s 322us/step - loss: 0.0833 - accuracy: 0.9742 - val_loss: 0.0705 - val_accuracy: 0.9792\n",
      "Epoch 3/15\n",
      "54000/54000 [==============================] - 19s 354us/step - loss: 0.0519 - accuracy: 0.9837 - val_loss: 0.0625 - val_accuracy: 0.9820\n",
      "Epoch 4/15\n",
      "54000/54000 [==============================] - 16s 291us/step - loss: 0.0380 - accuracy: 0.9875 - val_loss: 0.0793 - val_accuracy: 0.9777\n",
      "Epoch 5/15\n",
      "54000/54000 [==============================] - 15s 278us/step - loss: 0.0268 - accuracy: 0.9914 - val_loss: 0.0814 - val_accuracy: 0.9790\n",
      "Epoch 6/15\n",
      "54000/54000 [==============================] - 16s 299us/step - loss: 0.0211 - accuracy: 0.9925 - val_loss: 0.0773 - val_accuracy: 0.9793\n",
      "Epoch 7/15\n",
      "54000/54000 [==============================] - 12s 226us/step - loss: 0.0180 - accuracy: 0.9945 - val_loss: 0.0799 - val_accuracy: 0.9795\n",
      "Epoch 8/15\n",
      "54000/54000 [==============================] - 16s 289us/step - loss: 0.0169 - accuracy: 0.9944 - val_loss: 0.0747 - val_accuracy: 0.9817\n",
      "Epoch 9/15\n",
      "54000/54000 [==============================] - 15s 279us/step - loss: 0.0123 - accuracy: 0.9959 - val_loss: 0.0924 - val_accuracy: 0.9815\n",
      "Epoch 14/15\n",
      "54000/54000 [==============================] - 17s 321us/step - loss: 0.0102 - accuracy: 0.9965 - val_loss: 0.0987 - val_accuracy: 0.9818\n",
      "Epoch 15/15\n",
      "54000/54000 [==============================] - 16s 293us/step - loss: 0.0106 - accuracy: 0.9967 - val_loss: 0.0820 - val_accuracy: 0.9857\n",
      "10000/10000 [==============================] - 3s 262us/step\n",
      "accuracy: 0.9832000136375427\n"
     ]
    }
   ],
   "source": [
    "visible = layers.Input(shape=(height * width,))\n",
    "hidden = layers.Dense(512, activation='relu')(visible)\n",
    "hidden_2 = layers.Dense(512, activation='relu')(hidden)\n",
    "out = layers.Dense(10, activation='softmax')(hidden_2)\n",
    "\n",
    "model = models.Model(inputs=visible, outputs=out)\n",
    "model.compile(optimizer = 'adam',\n",
    "              loss = \"categorical_crossentropy\",\n",
    "              metrics = [\"accuracy\"])\n",
    "\n",
    "model.fit(x_train, y_train, epochs=15, batch_size=128, validation_split=0.1)\n",
    "\n",
    "test_loss, test_acc = model.evaluate(x_test, y_test)\n",
    "print(f'accuracy: {test_acc}')"
   ]
  },
  {
   "cell_type": "markdown",
   "metadata": {},
   "source": [
    "В итоге точность модели получилась ~ 98%"
   ]
  },
  {
   "cell_type": "code",
   "execution_count": null,
   "metadata": {},
   "outputs": [],
   "source": []
  },
  {
   "cell_type": "code",
   "execution_count": null,
   "metadata": {},
   "outputs": [],
   "source": []
  }
 ],
 "metadata": {
  "kernelspec": {
   "display_name": "Python 3",
   "language": "python",
   "name": "python3"
  },
  "language_info": {
   "codemirror_mode": {
    "name": "ipython",
    "version": 3
   },
   "file_extension": ".py",
   "mimetype": "text/x-python",
   "name": "python",
   "nbconvert_exporter": "python",
   "pygments_lexer": "ipython3",
   "version": "3.7.6"
  }
 },
 "nbformat": 4,
 "nbformat_minor": 4
}
